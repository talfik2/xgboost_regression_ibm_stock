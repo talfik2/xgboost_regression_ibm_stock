{
 "cells": [
  {
   "cell_type": "markdown",
   "id": "2eccd243",
   "metadata": {},
   "source": [
    "#### Importing Data from yfinance library"
   ]
  },
  {
   "cell_type": "code",
   "execution_count": null,
   "id": "69c246e3",
   "metadata": {},
   "outputs": [],
   "source": [
    "import pandas as pd\n",
    "import yfinance as yf\n",
    "import numpy as np\n",
    "import matplotlib.pyplot as plt"
   ]
  },
  {
   "cell_type": "code",
   "execution_count": 40,
   "id": "e929d580",
   "metadata": {
    "scrolled": true
   },
   "outputs": [
    {
     "name": "stdout",
     "output_type": "stream",
     "text": [
      "[*********************100%***********************]  1 of 1 completed\n"
     ]
    },
    {
     "data": {
      "text/plain": [
       "(14929, 6)"
      ]
     },
     "execution_count": 40,
     "metadata": {},
     "output_type": "execute_result"
    }
   ],
   "source": [
    "ibm = yf.download(\"IBM\")\n",
    "ibm.shape"
   ]
  },
  {
   "cell_type": "markdown",
   "id": "59e87e2b",
   "metadata": {},
   "source": [
    "#### Inspecting Data"
   ]
  },
  {
   "cell_type": "code",
   "execution_count": 20,
   "id": "ff74b446",
   "metadata": {
    "scrolled": false
   },
   "outputs": [
    {
     "data": {
      "text/html": [
       "<div>\n",
       "<style scoped>\n",
       "    .dataframe tbody tr th:only-of-type {\n",
       "        vertical-align: middle;\n",
       "    }\n",
       "\n",
       "    .dataframe tbody tr th {\n",
       "        vertical-align: top;\n",
       "    }\n",
       "\n",
       "    .dataframe thead th {\n",
       "        text-align: right;\n",
       "    }\n",
       "</style>\n",
       "<table border=\"1\" class=\"dataframe\">\n",
       "  <thead>\n",
       "    <tr style=\"text-align: right;\">\n",
       "      <th></th>\n",
       "      <th>Open</th>\n",
       "      <th>High</th>\n",
       "      <th>Low</th>\n",
       "      <th>Close</th>\n",
       "      <th>Adj Close</th>\n",
       "      <th>Volume</th>\n",
       "    </tr>\n",
       "    <tr>\n",
       "      <th>Date</th>\n",
       "      <th></th>\n",
       "      <th></th>\n",
       "      <th></th>\n",
       "      <th></th>\n",
       "      <th></th>\n",
       "      <th></th>\n",
       "    </tr>\n",
       "  </thead>\n",
       "  <tbody>\n",
       "    <tr>\n",
       "      <th>1962-01-02</th>\n",
       "      <td>7.713333</td>\n",
       "      <td>7.713333</td>\n",
       "      <td>7.626667</td>\n",
       "      <td>7.626667</td>\n",
       "      <td>1.858243</td>\n",
       "      <td>390000</td>\n",
       "    </tr>\n",
       "    <tr>\n",
       "      <th>1962-01-03</th>\n",
       "      <td>7.626667</td>\n",
       "      <td>7.693333</td>\n",
       "      <td>7.626667</td>\n",
       "      <td>7.693333</td>\n",
       "      <td>1.874485</td>\n",
       "      <td>292500</td>\n",
       "    </tr>\n",
       "    <tr>\n",
       "      <th>1962-01-04</th>\n",
       "      <td>7.693333</td>\n",
       "      <td>7.693333</td>\n",
       "      <td>7.613333</td>\n",
       "      <td>7.616667</td>\n",
       "      <td>1.855805</td>\n",
       "      <td>262500</td>\n",
       "    </tr>\n",
       "    <tr>\n",
       "      <th>1962-01-05</th>\n",
       "      <td>7.606667</td>\n",
       "      <td>7.606667</td>\n",
       "      <td>7.453333</td>\n",
       "      <td>7.466667</td>\n",
       "      <td>1.819257</td>\n",
       "      <td>367500</td>\n",
       "    </tr>\n",
       "    <tr>\n",
       "      <th>1962-01-08</th>\n",
       "      <td>7.460000</td>\n",
       "      <td>7.460000</td>\n",
       "      <td>7.266667</td>\n",
       "      <td>7.326667</td>\n",
       "      <td>1.785148</td>\n",
       "      <td>547500</td>\n",
       "    </tr>\n",
       "  </tbody>\n",
       "</table>\n",
       "</div>"
      ],
      "text/plain": [
       "                Open      High       Low     Close  Adj Close  Volume\n",
       "Date                                                                 \n",
       "1962-01-02  7.713333  7.713333  7.626667  7.626667   1.858243  390000\n",
       "1962-01-03  7.626667  7.693333  7.626667  7.693333   1.874485  292500\n",
       "1962-01-04  7.693333  7.693333  7.613333  7.616667   1.855805  262500\n",
       "1962-01-05  7.606667  7.606667  7.453333  7.466667   1.819257  367500\n",
       "1962-01-08  7.460000  7.460000  7.266667  7.326667   1.785148  547500"
      ]
     },
     "execution_count": 20,
     "metadata": {},
     "output_type": "execute_result"
    }
   ],
   "source": [
    "ibm.head()"
   ]
  },
  {
   "cell_type": "code",
   "execution_count": 10,
   "id": "577ee4cc",
   "metadata": {
    "scrolled": true
   },
   "outputs": [
    {
     "data": {
      "text/plain": [
       "<AxesSubplot:xlabel='Date'>"
      ]
     },
     "execution_count": 10,
     "metadata": {},
     "output_type": "execute_result"
    },
    {
     "data": {
      "image/png": "[encoded data removed]",
      "text/plain": [
       "<Figure size 432x288 with 1 Axes>"
      ]
     },
     "metadata": {
      "needs_background": "light"
     },
     "output_type": "display_data"
    }
   ],
   "source": [
    "ibm.plot(x=\"Date\", y=\"Close\")"
   ]
  },
  {
   "cell_type": "code",
   "execution_count": 12,
   "id": "44d9e8a5",
   "metadata": {
    "scrolled": true
   },
   "outputs": [
    {
     "data": {
      "text/html": [
       "<div>\n",
       "<style scoped>\n",
       "    .dataframe tbody tr th:only-of-type {\n",
       "        vertical-align: middle;\n",
       "    }\n",
       "\n",
       "    .dataframe tbody tr th {\n",
       "        vertical-align: top;\n",
       "    }\n",
       "\n",
       "    .dataframe thead th {\n",
       "        text-align: right;\n",
       "    }\n",
       "</style>\n",
       "<table border=\"1\" class=\"dataframe\">\n",
       "  <thead>\n",
       "    <tr style=\"text-align: right;\">\n",
       "      <th></th>\n",
       "      <th>Date</th>\n",
       "      <th>Open</th>\n",
       "      <th>High</th>\n",
       "      <th>Low</th>\n",
       "      <th>Close</th>\n",
       "      <th>Adj Close</th>\n",
       "      <th>Volume</th>\n",
       "    </tr>\n",
       "  </thead>\n",
       "  <tbody>\n",
       "    <tr>\n",
       "      <th>14928</th>\n",
       "      <td>2021-04-22</td>\n",
       "      <td>143.699997</td>\n",
       "      <td>144.740005</td>\n",
       "      <td>141.238205</td>\n",
       "      <td>141.330002</td>\n",
       "      <td>141.330002</td>\n",
       "      <td>4897242</td>\n",
       "    </tr>\n",
       "    <tr>\n",
       "      <th>14927</th>\n",
       "      <td>2021-04-21</td>\n",
       "      <td>138.059998</td>\n",
       "      <td>143.729996</td>\n",
       "      <td>137.710007</td>\n",
       "      <td>143.550003</td>\n",
       "      <td>143.550003</td>\n",
       "      <td>11905200</td>\n",
       "    </tr>\n",
       "    <tr>\n",
       "      <th>14926</th>\n",
       "      <td>2021-04-20</td>\n",
       "      <td>137.070007</td>\n",
       "      <td>139.770004</td>\n",
       "      <td>136.699997</td>\n",
       "      <td>138.160004</td>\n",
       "      <td>138.160004</td>\n",
       "      <td>15480600</td>\n",
       "    </tr>\n",
       "    <tr>\n",
       "      <th>14925</th>\n",
       "      <td>2021-04-19</td>\n",
       "      <td>133.600006</td>\n",
       "      <td>133.820007</td>\n",
       "      <td>132.580002</td>\n",
       "      <td>133.119995</td>\n",
       "      <td>133.119995</td>\n",
       "      <td>8198600</td>\n",
       "    </tr>\n",
       "    <tr>\n",
       "      <th>14924</th>\n",
       "      <td>2021-04-16</td>\n",
       "      <td>133.000000</td>\n",
       "      <td>134.100006</td>\n",
       "      <td>132.949997</td>\n",
       "      <td>133.589996</td>\n",
       "      <td>133.589996</td>\n",
       "      <td>5290900</td>\n",
       "    </tr>\n",
       "    <tr>\n",
       "      <th>...</th>\n",
       "      <td>...</td>\n",
       "      <td>...</td>\n",
       "      <td>...</td>\n",
       "      <td>...</td>\n",
       "      <td>...</td>\n",
       "      <td>...</td>\n",
       "      <td>...</td>\n",
       "    </tr>\n",
       "    <tr>\n",
       "      <th>4</th>\n",
       "      <td>1962-01-08</td>\n",
       "      <td>7.460000</td>\n",
       "      <td>7.460000</td>\n",
       "      <td>7.266667</td>\n",
       "      <td>7.326667</td>\n",
       "      <td>1.785148</td>\n",
       "      <td>547500</td>\n",
       "    </tr>\n",
       "    <tr>\n",
       "      <th>3</th>\n",
       "      <td>1962-01-05</td>\n",
       "      <td>7.606667</td>\n",
       "      <td>7.606667</td>\n",
       "      <td>7.453333</td>\n",
       "      <td>7.466667</td>\n",
       "      <td>1.819257</td>\n",
       "      <td>367500</td>\n",
       "    </tr>\n",
       "    <tr>\n",
       "      <th>2</th>\n",
       "      <td>1962-01-04</td>\n",
       "      <td>7.693333</td>\n",
       "      <td>7.693333</td>\n",
       "      <td>7.613333</td>\n",
       "      <td>7.616667</td>\n",
       "      <td>1.855805</td>\n",
       "      <td>262500</td>\n",
       "    </tr>\n",
       "    <tr>\n",
       "      <th>1</th>\n",
       "      <td>1962-01-03</td>\n",
       "      <td>7.626667</td>\n",
       "      <td>7.693333</td>\n",
       "      <td>7.626667</td>\n",
       "      <td>7.693333</td>\n",
       "      <td>1.874485</td>\n",
       "      <td>292500</td>\n",
       "    </tr>\n",
       "    <tr>\n",
       "      <th>0</th>\n",
       "      <td>1962-01-02</td>\n",
       "      <td>7.713333</td>\n",
       "      <td>7.713333</td>\n",
       "      <td>7.626667</td>\n",
       "      <td>7.626667</td>\n",
       "      <td>1.858243</td>\n",
       "      <td>390000</td>\n",
       "    </tr>\n",
       "  </tbody>\n",
       "</table>\n",
       "<p>14929 rows × 7 columns</p>\n",
       "</div>"
      ],
      "text/plain": [
       "            Date        Open        High         Low       Close   Adj Close  \\\n",
       "14928 2021-04-22  143.699997  144.740005  141.238205  141.330002  141.330002   \n",
       "14927 2021-04-21  138.059998  143.729996  137.710007  143.550003  143.550003   \n",
       "14926 2021-04-20  137.070007  139.770004  136.699997  138.160004  138.160004   \n",
       "14925 2021-04-19  133.600006  133.820007  132.580002  133.119995  133.119995   \n",
       "14924 2021-04-16  133.000000  134.100006  132.949997  133.589996  133.589996   \n",
       "...          ...         ...         ...         ...         ...         ...   \n",
       "4     1962-01-08    7.460000    7.460000    7.266667    7.326667    1.785148   \n",
       "3     1962-01-05    7.606667    7.606667    7.453333    7.466667    1.819257   \n",
       "2     1962-01-04    7.693333    7.693333    7.613333    7.616667    1.855805   \n",
       "1     1962-01-03    7.626667    7.693333    7.626667    7.693333    1.874485   \n",
       "0     1962-01-02    7.713333    7.713333    7.626667    7.626667    1.858243   \n",
       "\n",
       "         Volume  \n",
       "14928   4897242  \n",
       "14927  11905200  \n",
       "14926  15480600  \n",
       "14925   8198600  \n",
       "14924   5290900  \n",
       "...         ...  \n",
       "4        547500  \n",
       "3        367500  \n",
       "2        262500  \n",
       "1        292500  \n",
       "0        390000  \n",
       "\n",
       "[14929 rows x 7 columns]"
      ]
     },
     "execution_count": 12,
     "metadata": {},
     "output_type": "execute_result"
    }
   ],
   "source": [
    "ibm.sort_values(by = \"Date\", ascending = False)"
   ]
  },
  {
   "cell_type": "code",
   "execution_count": 41,
   "id": "78e2fb32",
   "metadata": {
    "scrolled": true
   },
   "outputs": [
    {
     "data": {
      "text/plain": [
       "Open         float64\n",
       "High         float64\n",
       "Low          float64\n",
       "Close        float64\n",
       "Adj Close    float64\n",
       "Volume         int64\n",
       "dtype: object"
      ]
     },
     "execution_count": 41,
     "metadata": {},
     "output_type": "execute_result"
    }
   ],
   "source": [
    "ibm.dtypes"
   ]
  },
  {
   "cell_type": "markdown",
   "id": "71362052",
   "metadata": {},
   "source": [
    "#### SPLITTING DATA INTO TRAIN & TEST SETS"
   ]
  },
  {
   "cell_type": "markdown",
   "id": "26683d6d",
   "metadata": {},
   "source": [
    "I am going to split data into train & test sets by sklearn's `train_test_split` <br>\n",
    "**train_test_split** is used to estimate the performance of machine learning algorithms when they are used to make predictions on data not used to train the model. [*](https://machinelearningmastery.com/train-test-split-for-evaluating-machine-learning-algorithms/#:~:text=The%20train%2Dtest%20split%20procedure,used%20to%20train%20the%20model.)<br>\n",
    "It splits arrays or matrices into random train and test subsets[*](https://scikit-learn.org/stable/modules/generated/sklearn.model_selection.train_test_split.html)"
   ]
  },
  {
   "cell_type": "code",
   "execution_count": 44,
   "id": "f2d29f54",
   "metadata": {},
   "outputs": [],
   "source": [
    "from sklearn.model_selection import train_test_split\n",
    "X_train, X_test, y_train, y_test = train_test_split(ibm.drop(columns='Close'), ibm[\"Close\"], test_size = 0.3,\n",
    "                                                   random_state = 123)"
   ]
  },
  {
   "cell_type": "markdown",
   "id": "35fb8cd7",
   "metadata": {},
   "source": [
    "#### Untuned Decision Tree Regressor Base Model"
   ]
  },
  {
   "cell_type": "markdown",
   "id": "acc98a4f",
   "metadata": {},
   "source": [
    "**By default, XGBoost uses trees as base learners**, so I don't have to specify that I want to use trees here with `booster=\"gbtree\"`."
   ]
  },
  {
   "cell_type": "code",
   "execution_count": 71,
   "id": "9aad8248",
   "metadata": {
    "scrolled": true
   },
   "outputs": [
    {
     "name": "stdout",
     "output_type": "stream",
     "text": [
      "[23:01:00] WARNING: C:/Users/Administrator/workspace/xgboost-win64_release_1.3.0/src/objective/regression_obj.cu:170: reg:linear is now deprecated in favor of reg:squarederror.\n",
      "R.M.S.E for Untuned Decision Tree Regression Base Model is:  2.496089317463909\n"
     ]
    }
   ],
   "source": [
    "import xgboost as xgb\n",
    "from sklearn.metrics import mean_squared_error as MSE\n",
    "xgr = xgb.XGBRegressor(objective = \"reg:linear\", n_estimators = 10, seed = 123)\n",
    "# n_estimators = 10 -> setting 10 boosting rounds\n",
    "# seed is random seed to ensure getting the same results when you run the same code multiple times. seed = 123 is for simlicity\n",
    "xgr.fit(X_train, y_train)\n",
    "y_pred = xgr.predict(X_test)\n",
    "RMSE = MSE(y_pred, y_test)**(1/2)\n",
    "print(\"R.M.S.E for Untuned Decision Tree Regression Base Model is: \", RMSE)"
   ]
  },
  {
   "cell_type": "markdown",
   "id": "a563afd7",
   "metadata": {},
   "source": [
    "#### Untuned Linear Regression Model"
   ]
  },
  {
   "cell_type": "code",
   "execution_count": 73,
   "id": "4bed3526",
   "metadata": {
    "scrolled": true
   },
   "outputs": [
    {
     "name": "stdout",
     "output_type": "stream",
     "text": [
      "[23:01:30] WARNING: C:/Users/Administrator/workspace/xgboost-win64_release_1.3.0/src/objective/regression_obj.cu:170: reg:linear is now deprecated in favor of reg:squarederror.\n",
      "R.M.S.E for Untuned Linear Regression Base Model is:  5.555844284032233\n"
     ]
    }
   ],
   "source": [
    "import xgboost as xgb\n",
    "from sklearn.metrics import mean_squared_error as MSE\n",
    "xgr = xgb.XGBRegressor(objective = \"reg:linear\", booster = \"gblinear\",n_estimators = 10, seed = 123)\n",
    "xgr.fit(X_train, y_train)\n",
    "y_pred = xgr.predict(X_test)\n",
    "RMSE = MSE(y_pred, y_test)**(1/2)\n",
    "print(\"R.M.S.E for Untuned Linear Regression Base Model is: \", RMSE)"
   ]
  },
  {
   "cell_type": "markdown",
   "id": "3fb82bcf",
   "metadata": {},
   "source": [
    "* Untuned Decision Tree Regressor Base Model's R.M.S.E. Score(2.49) is lower than Untuned Linear Regression Model's R.M.S.E. Score(5.55). As lower R.M.S.E. Score is better in R.M.S.E., in our case; Decision Tree Regressor is more convinient base for XGBoost.  "
   ]
  },
  {
   "cell_type": "markdown",
   "id": "2b124260",
   "metadata": {},
   "source": [
    "#### Hyperparameter Tuning with Grid Search C.V."
   ]
  },
  {
   "cell_type": "markdown",
   "id": "772f2aa7",
   "metadata": {},
   "source": [
    "**GridSearchCV** is a library function that is a member of sklearn's model_selection package. It helps to loop through predefined hyperparameters and fit your estimator (model) on your training set. So, in the end, you can select the best parameters from the listed hyperparameters [source](https://towardsdatascience.com/grid-search-for-hyperparameter-tuning-9f63945e8fec)"
   ]
  },
  {
   "cell_type": "code",
   "execution_count": 57,
   "id": "4457666f",
   "metadata": {
    "collapsed": true
   },
   "outputs": [
    {
     "name": "stdout",
     "output_type": "stream",
     "text": [
      "Fitting 4 folds for each of 16 candidates, totalling 64 fits\n"
     ]
    },
    {
     "name": "stderr",
     "output_type": "stream",
     "text": [
      "C:\\Users\\talfi\\anaconda3\\lib\\site-packages\\sklearn\\model_selection\\_validation.py:610: FitFailedWarning: Estimator fit failed. The score on this train-test partition for these parameters will be set to nan. Details: \n",
      "Traceback (most recent call last):\n",
      "  File \"C:\\Users\\talfi\\anaconda3\\lib\\site-packages\\sklearn\\model_selection\\_validation.py\", line 593, in _fit_and_score\n",
      "    estimator.fit(X_train, y_train, **fit_params)\n",
      "  File \"C:\\Users\\talfi\\anaconda3\\lib\\site-packages\\xgboost\\core.py\", line 422, in inner_f\n",
      "    return f(**kwargs)\n",
      "  File \"C:\\Users\\talfi\\anaconda3\\lib\\site-packages\\xgboost\\sklearn.py\", line 597, in fit\n",
      "    self._Booster = train(params, train_dmatrix,\n",
      "  File \"C:\\Users\\talfi\\anaconda3\\lib\\site-packages\\xgboost\\training.py\", line 227, in train\n",
      "    bst = _train_internal(params, dtrain,\n",
      "  File \"C:\\Users\\talfi\\anaconda3\\lib\\site-packages\\xgboost\\training.py\", line 96, in _train_internal\n",
      "    for i in range(start_iteration, num_boost_round):\n",
      "TypeError: 'float' object cannot be interpreted as an integer\n",
      "\n",
      "  warnings.warn(\"Estimator fit failed. The score on this train-test\"\n",
      "C:\\Users\\talfi\\anaconda3\\lib\\site-packages\\sklearn\\model_selection\\_validation.py:610: FitFailedWarning: Estimator fit failed. The score on this train-test partition for these parameters will be set to nan. Details: \n",
      "Traceback (most recent call last):\n",
      "  File \"C:\\Users\\talfi\\anaconda3\\lib\\site-packages\\sklearn\\model_selection\\_validation.py\", line 593, in _fit_and_score\n",
      "    estimator.fit(X_train, y_train, **fit_params)\n",
      "  File \"C:\\Users\\talfi\\anaconda3\\lib\\site-packages\\xgboost\\core.py\", line 422, in inner_f\n",
      "    return f(**kwargs)\n",
      "  File \"C:\\Users\\talfi\\anaconda3\\lib\\site-packages\\xgboost\\sklearn.py\", line 597, in fit\n",
      "    self._Booster = train(params, train_dmatrix,\n",
      "  File \"C:\\Users\\talfi\\anaconda3\\lib\\site-packages\\xgboost\\training.py\", line 227, in train\n",
      "    bst = _train_internal(params, dtrain,\n",
      "  File \"C:\\Users\\talfi\\anaconda3\\lib\\site-packages\\xgboost\\training.py\", line 96, in _train_internal\n",
      "    for i in range(start_iteration, num_boost_round):\n",
      "TypeError: 'float' object cannot be interpreted as an integer\n",
      "\n",
      "  warnings.warn(\"Estimator fit failed. The score on this train-test\"\n",
      "C:\\Users\\talfi\\anaconda3\\lib\\site-packages\\sklearn\\model_selection\\_validation.py:610: FitFailedWarning: Estimator fit failed. The score on this train-test partition for these parameters will be set to nan. Details: \n",
      "Traceback (most recent call last):\n",
      "  File \"C:\\Users\\talfi\\anaconda3\\lib\\site-packages\\sklearn\\model_selection\\_validation.py\", line 593, in _fit_and_score\n",
      "    estimator.fit(X_train, y_train, **fit_params)\n",
      "  File \"C:\\Users\\talfi\\anaconda3\\lib\\site-packages\\xgboost\\core.py\", line 422, in inner_f\n",
      "    return f(**kwargs)\n",
      "  File \"C:\\Users\\talfi\\anaconda3\\lib\\site-packages\\xgboost\\sklearn.py\", line 597, in fit\n",
      "    self._Booster = train(params, train_dmatrix,\n",
      "  File \"C:\\Users\\talfi\\anaconda3\\lib\\site-packages\\xgboost\\training.py\", line 227, in train\n",
      "    bst = _train_internal(params, dtrain,\n",
      "  File \"C:\\Users\\talfi\\anaconda3\\lib\\site-packages\\xgboost\\training.py\", line 96, in _train_internal\n",
      "    for i in range(start_iteration, num_boost_round):\n",
      "TypeError: 'float' object cannot be interpreted as an integer\n",
      "\n",
      "  warnings.warn(\"Estimator fit failed. The score on this train-test\"\n",
      "C:\\Users\\talfi\\anaconda3\\lib\\site-packages\\sklearn\\model_selection\\_validation.py:610: FitFailedWarning: Estimator fit failed. The score on this train-test partition for these parameters will be set to nan. Details: \n",
      "Traceback (most recent call last):\n",
      "  File \"C:\\Users\\talfi\\anaconda3\\lib\\site-packages\\sklearn\\model_selection\\_validation.py\", line 593, in _fit_and_score\n",
      "    estimator.fit(X_train, y_train, **fit_params)\n",
      "  File \"C:\\Users\\talfi\\anaconda3\\lib\\site-packages\\xgboost\\core.py\", line 422, in inner_f\n",
      "    return f(**kwargs)\n",
      "  File \"C:\\Users\\talfi\\anaconda3\\lib\\site-packages\\xgboost\\sklearn.py\", line 597, in fit\n",
      "    self._Booster = train(params, train_dmatrix,\n",
      "  File \"C:\\Users\\talfi\\anaconda3\\lib\\site-packages\\xgboost\\training.py\", line 227, in train\n",
      "    bst = _train_internal(params, dtrain,\n",
      "  File \"C:\\Users\\talfi\\anaconda3\\lib\\site-packages\\xgboost\\training.py\", line 96, in _train_internal\n",
      "    for i in range(start_iteration, num_boost_round):\n",
      "TypeError: 'float' object cannot be interpreted as an integer\n",
      "\n",
      "  warnings.warn(\"Estimator fit failed. The score on this train-test\"\n",
      "C:\\Users\\talfi\\anaconda3\\lib\\site-packages\\sklearn\\model_selection\\_validation.py:610: FitFailedWarning: Estimator fit failed. The score on this train-test partition for these parameters will be set to nan. Details: \n",
      "Traceback (most recent call last):\n",
      "  File \"C:\\Users\\talfi\\anaconda3\\lib\\site-packages\\sklearn\\model_selection\\_validation.py\", line 593, in _fit_and_score\n",
      "    estimator.fit(X_train, y_train, **fit_params)\n",
      "  File \"C:\\Users\\talfi\\anaconda3\\lib\\site-packages\\xgboost\\core.py\", line 422, in inner_f\n",
      "    return f(**kwargs)\n",
      "  File \"C:\\Users\\talfi\\anaconda3\\lib\\site-packages\\xgboost\\sklearn.py\", line 597, in fit\n",
      "    self._Booster = train(params, train_dmatrix,\n",
      "  File \"C:\\Users\\talfi\\anaconda3\\lib\\site-packages\\xgboost\\training.py\", line 227, in train\n",
      "    bst = _train_internal(params, dtrain,\n",
      "  File \"C:\\Users\\talfi\\anaconda3\\lib\\site-packages\\xgboost\\training.py\", line 96, in _train_internal\n",
      "    for i in range(start_iteration, num_boost_round):\n",
      "TypeError: 'float' object cannot be interpreted as an integer\n",
      "\n",
      "  warnings.warn(\"Estimator fit failed. The score on this train-test\"\n",
      "C:\\Users\\talfi\\anaconda3\\lib\\site-packages\\sklearn\\model_selection\\_validation.py:610: FitFailedWarning: Estimator fit failed. The score on this train-test partition for these parameters will be set to nan. Details: \n",
      "Traceback (most recent call last):\n",
      "  File \"C:\\Users\\talfi\\anaconda3\\lib\\site-packages\\sklearn\\model_selection\\_validation.py\", line 593, in _fit_and_score\n",
      "    estimator.fit(X_train, y_train, **fit_params)\n",
      "  File \"C:\\Users\\talfi\\anaconda3\\lib\\site-packages\\xgboost\\core.py\", line 422, in inner_f\n",
      "    return f(**kwargs)\n",
      "  File \"C:\\Users\\talfi\\anaconda3\\lib\\site-packages\\xgboost\\sklearn.py\", line 597, in fit\n",
      "    self._Booster = train(params, train_dmatrix,\n",
      "  File \"C:\\Users\\talfi\\anaconda3\\lib\\site-packages\\xgboost\\training.py\", line 227, in train\n",
      "    bst = _train_internal(params, dtrain,\n",
      "  File \"C:\\Users\\talfi\\anaconda3\\lib\\site-packages\\xgboost\\training.py\", line 96, in _train_internal\n",
      "    for i in range(start_iteration, num_boost_round):\n",
      "TypeError: 'float' object cannot be interpreted as an integer\n",
      "\n",
      "  warnings.warn(\"Estimator fit failed. The score on this train-test\"\n",
      "C:\\Users\\talfi\\anaconda3\\lib\\site-packages\\sklearn\\model_selection\\_validation.py:610: FitFailedWarning: Estimator fit failed. The score on this train-test partition for these parameters will be set to nan. Details: \n",
      "Traceback (most recent call last):\n",
      "  File \"C:\\Users\\talfi\\anaconda3\\lib\\site-packages\\sklearn\\model_selection\\_validation.py\", line 593, in _fit_and_score\n",
      "    estimator.fit(X_train, y_train, **fit_params)\n",
      "  File \"C:\\Users\\talfi\\anaconda3\\lib\\site-packages\\xgboost\\core.py\", line 422, in inner_f\n",
      "    return f(**kwargs)\n",
      "  File \"C:\\Users\\talfi\\anaconda3\\lib\\site-packages\\xgboost\\sklearn.py\", line 597, in fit\n",
      "    self._Booster = train(params, train_dmatrix,\n",
      "  File \"C:\\Users\\talfi\\anaconda3\\lib\\site-packages\\xgboost\\training.py\", line 227, in train\n",
      "    bst = _train_internal(params, dtrain,\n",
      "  File \"C:\\Users\\talfi\\anaconda3\\lib\\site-packages\\xgboost\\training.py\", line 96, in _train_internal\n",
      "    for i in range(start_iteration, num_boost_round):\n",
      "TypeError: 'float' object cannot be interpreted as an integer\n",
      "\n",
      "  warnings.warn(\"Estimator fit failed. The score on this train-test\"\n",
      "C:\\Users\\talfi\\anaconda3\\lib\\site-packages\\sklearn\\model_selection\\_validation.py:610: FitFailedWarning: Estimator fit failed. The score on this train-test partition for these parameters will be set to nan. Details: \n",
      "Traceback (most recent call last):\n",
      "  File \"C:\\Users\\talfi\\anaconda3\\lib\\site-packages\\sklearn\\model_selection\\_validation.py\", line 593, in _fit_and_score\n",
      "    estimator.fit(X_train, y_train, **fit_params)\n",
      "  File \"C:\\Users\\talfi\\anaconda3\\lib\\site-packages\\xgboost\\core.py\", line 422, in inner_f\n",
      "    return f(**kwargs)\n",
      "  File \"C:\\Users\\talfi\\anaconda3\\lib\\site-packages\\xgboost\\sklearn.py\", line 597, in fit\n",
      "    self._Booster = train(params, train_dmatrix,\n",
      "  File \"C:\\Users\\talfi\\anaconda3\\lib\\site-packages\\xgboost\\training.py\", line 227, in train\n",
      "    bst = _train_internal(params, dtrain,\n",
      "  File \"C:\\Users\\talfi\\anaconda3\\lib\\site-packages\\xgboost\\training.py\", line 96, in _train_internal\n",
      "    for i in range(start_iteration, num_boost_round):\n",
      "TypeError: 'float' object cannot be interpreted as an integer\n",
      "\n",
      "  warnings.warn(\"Estimator fit failed. The score on this train-test\"\n",
      "C:\\Users\\talfi\\anaconda3\\lib\\site-packages\\sklearn\\model_selection\\_validation.py:610: FitFailedWarning: Estimator fit failed. The score on this train-test partition for these parameters will be set to nan. Details: \n",
      "Traceback (most recent call last):\n",
      "  File \"C:\\Users\\talfi\\anaconda3\\lib\\site-packages\\sklearn\\model_selection\\_validation.py\", line 593, in _fit_and_score\n",
      "    estimator.fit(X_train, y_train, **fit_params)\n",
      "  File \"C:\\Users\\talfi\\anaconda3\\lib\\site-packages\\xgboost\\core.py\", line 422, in inner_f\n",
      "    return f(**kwargs)\n",
      "  File \"C:\\Users\\talfi\\anaconda3\\lib\\site-packages\\xgboost\\sklearn.py\", line 597, in fit\n",
      "    self._Booster = train(params, train_dmatrix,\n",
      "  File \"C:\\Users\\talfi\\anaconda3\\lib\\site-packages\\xgboost\\training.py\", line 227, in train\n",
      "    bst = _train_internal(params, dtrain,\n",
      "  File \"C:\\Users\\talfi\\anaconda3\\lib\\site-packages\\xgboost\\training.py\", line 96, in _train_internal\n",
      "    for i in range(start_iteration, num_boost_round):\n",
      "TypeError: 'float' object cannot be interpreted as an integer\n",
      "\n",
      "  warnings.warn(\"Estimator fit failed. The score on this train-test\"\n",
      "C:\\Users\\talfi\\anaconda3\\lib\\site-packages\\sklearn\\model_selection\\_validation.py:610: FitFailedWarning: Estimator fit failed. The score on this train-test partition for these parameters will be set to nan. Details: \n",
      "Traceback (most recent call last):\n",
      "  File \"C:\\Users\\talfi\\anaconda3\\lib\\site-packages\\sklearn\\model_selection\\_validation.py\", line 593, in _fit_and_score\n",
      "    estimator.fit(X_train, y_train, **fit_params)\n",
      "  File \"C:\\Users\\talfi\\anaconda3\\lib\\site-packages\\xgboost\\core.py\", line 422, in inner_f\n",
      "    return f(**kwargs)\n",
      "  File \"C:\\Users\\talfi\\anaconda3\\lib\\site-packages\\xgboost\\sklearn.py\", line 597, in fit\n",
      "    self._Booster = train(params, train_dmatrix,\n",
      "  File \"C:\\Users\\talfi\\anaconda3\\lib\\site-packages\\xgboost\\training.py\", line 227, in train\n",
      "    bst = _train_internal(params, dtrain,\n",
      "  File \"C:\\Users\\talfi\\anaconda3\\lib\\site-packages\\xgboost\\training.py\", line 96, in _train_internal\n",
      "    for i in range(start_iteration, num_boost_round):\n",
      "TypeError: 'float' object cannot be interpreted as an integer\n",
      "\n",
      "  warnings.warn(\"Estimator fit failed. The score on this train-test\"\n",
      "C:\\Users\\talfi\\anaconda3\\lib\\site-packages\\sklearn\\model_selection\\_validation.py:610: FitFailedWarning: Estimator fit failed. The score on this train-test partition for these parameters will be set to nan. Details: \n",
      "Traceback (most recent call last):\n",
      "  File \"C:\\Users\\talfi\\anaconda3\\lib\\site-packages\\sklearn\\model_selection\\_validation.py\", line 593, in _fit_and_score\n",
      "    estimator.fit(X_train, y_train, **fit_params)\n",
      "  File \"C:\\Users\\talfi\\anaconda3\\lib\\site-packages\\xgboost\\core.py\", line 422, in inner_f\n",
      "    return f(**kwargs)\n",
      "  File \"C:\\Users\\talfi\\anaconda3\\lib\\site-packages\\xgboost\\sklearn.py\", line 597, in fit\n",
      "    self._Booster = train(params, train_dmatrix,\n",
      "  File \"C:\\Users\\talfi\\anaconda3\\lib\\site-packages\\xgboost\\training.py\", line 227, in train\n",
      "    bst = _train_internal(params, dtrain,\n",
      "  File \"C:\\Users\\talfi\\anaconda3\\lib\\site-packages\\xgboost\\training.py\", line 96, in _train_internal\n",
      "    for i in range(start_iteration, num_boost_round):\n",
      "TypeError: 'float' object cannot be interpreted as an integer\n",
      "\n",
      "  warnings.warn(\"Estimator fit failed. The score on this train-test\"\n",
      "C:\\Users\\talfi\\anaconda3\\lib\\site-packages\\sklearn\\model_selection\\_validation.py:610: FitFailedWarning: Estimator fit failed. The score on this train-test partition for these parameters will be set to nan. Details: \n",
      "Traceback (most recent call last):\n",
      "  File \"C:\\Users\\talfi\\anaconda3\\lib\\site-packages\\sklearn\\model_selection\\_validation.py\", line 593, in _fit_and_score\n",
      "    estimator.fit(X_train, y_train, **fit_params)\n",
      "  File \"C:\\Users\\talfi\\anaconda3\\lib\\site-packages\\xgboost\\core.py\", line 422, in inner_f\n",
      "    return f(**kwargs)\n",
      "  File \"C:\\Users\\talfi\\anaconda3\\lib\\site-packages\\xgboost\\sklearn.py\", line 597, in fit\n",
      "    self._Booster = train(params, train_dmatrix,\n",
      "  File \"C:\\Users\\talfi\\anaconda3\\lib\\site-packages\\xgboost\\training.py\", line 227, in train\n",
      "    bst = _train_internal(params, dtrain,\n",
      "  File \"C:\\Users\\talfi\\anaconda3\\lib\\site-packages\\xgboost\\training.py\", line 96, in _train_internal\n",
      "    for i in range(start_iteration, num_boost_round):\n",
      "TypeError: 'float' object cannot be interpreted as an integer\n",
      "\n",
      "  warnings.warn(\"Estimator fit failed. The score on this train-test\"\n",
      "C:\\Users\\talfi\\anaconda3\\lib\\site-packages\\sklearn\\model_selection\\_validation.py:610: FitFailedWarning: Estimator fit failed. The score on this train-test partition for these parameters will be set to nan. Details: \n",
      "Traceback (most recent call last):\n",
      "  File \"C:\\Users\\talfi\\anaconda3\\lib\\site-packages\\sklearn\\model_selection\\_validation.py\", line 593, in _fit_and_score\n",
      "    estimator.fit(X_train, y_train, **fit_params)\n",
      "  File \"C:\\Users\\talfi\\anaconda3\\lib\\site-packages\\xgboost\\core.py\", line 422, in inner_f\n",
      "    return f(**kwargs)\n",
      "  File \"C:\\Users\\talfi\\anaconda3\\lib\\site-packages\\xgboost\\sklearn.py\", line 597, in fit\n",
      "    self._Booster = train(params, train_dmatrix,\n",
      "  File \"C:\\Users\\talfi\\anaconda3\\lib\\site-packages\\xgboost\\training.py\", line 227, in train\n",
      "    bst = _train_internal(params, dtrain,\n",
      "  File \"C:\\Users\\talfi\\anaconda3\\lib\\site-packages\\xgboost\\training.py\", line 96, in _train_internal\n",
      "    for i in range(start_iteration, num_boost_round):\n",
      "TypeError: 'float' object cannot be interpreted as an integer\n",
      "\n",
      "  warnings.warn(\"Estimator fit failed. The score on this train-test\"\n",
      "C:\\Users\\talfi\\anaconda3\\lib\\site-packages\\sklearn\\model_selection\\_validation.py:610: FitFailedWarning: Estimator fit failed. The score on this train-test partition for these parameters will be set to nan. Details: \n",
      "Traceback (most recent call last):\n",
      "  File \"C:\\Users\\talfi\\anaconda3\\lib\\site-packages\\sklearn\\model_selection\\_validation.py\", line 593, in _fit_and_score\n",
      "    estimator.fit(X_train, y_train, **fit_params)\n",
      "  File \"C:\\Users\\talfi\\anaconda3\\lib\\site-packages\\xgboost\\core.py\", line 422, in inner_f\n",
      "    return f(**kwargs)\n",
      "  File \"C:\\Users\\talfi\\anaconda3\\lib\\site-packages\\xgboost\\sklearn.py\", line 597, in fit\n",
      "    self._Booster = train(params, train_dmatrix,\n",
      "  File \"C:\\Users\\talfi\\anaconda3\\lib\\site-packages\\xgboost\\training.py\", line 227, in train\n",
      "    bst = _train_internal(params, dtrain,\n",
      "  File \"C:\\Users\\talfi\\anaconda3\\lib\\site-packages\\xgboost\\training.py\", line 96, in _train_internal\n",
      "    for i in range(start_iteration, num_boost_round):\n",
      "TypeError: 'float' object cannot be interpreted as an integer\n",
      "\n",
      "  warnings.warn(\"Estimator fit failed. The score on this train-test\"\n",
      "C:\\Users\\talfi\\anaconda3\\lib\\site-packages\\sklearn\\model_selection\\_validation.py:610: FitFailedWarning: Estimator fit failed. The score on this train-test partition for these parameters will be set to nan. Details: \n",
      "Traceback (most recent call last):\n",
      "  File \"C:\\Users\\talfi\\anaconda3\\lib\\site-packages\\sklearn\\model_selection\\_validation.py\", line 593, in _fit_and_score\n",
      "    estimator.fit(X_train, y_train, **fit_params)\n",
      "  File \"C:\\Users\\talfi\\anaconda3\\lib\\site-packages\\xgboost\\core.py\", line 422, in inner_f\n",
      "    return f(**kwargs)\n",
      "  File \"C:\\Users\\talfi\\anaconda3\\lib\\site-packages\\xgboost\\sklearn.py\", line 597, in fit\n",
      "    self._Booster = train(params, train_dmatrix,\n",
      "  File \"C:\\Users\\talfi\\anaconda3\\lib\\site-packages\\xgboost\\training.py\", line 227, in train\n",
      "    bst = _train_internal(params, dtrain,\n",
      "  File \"C:\\Users\\talfi\\anaconda3\\lib\\site-packages\\xgboost\\training.py\", line 96, in _train_internal\n",
      "    for i in range(start_iteration, num_boost_round):\n",
      "TypeError: 'float' object cannot be interpreted as an integer\n",
      "\n",
      "  warnings.warn(\"Estimator fit failed. The score on this train-test\"\n",
      "C:\\Users\\talfi\\anaconda3\\lib\\site-packages\\sklearn\\model_selection\\_validation.py:610: FitFailedWarning: Estimator fit failed. The score on this train-test partition for these parameters will be set to nan. Details: \n",
      "Traceback (most recent call last):\n",
      "  File \"C:\\Users\\talfi\\anaconda3\\lib\\site-packages\\sklearn\\model_selection\\_validation.py\", line 593, in _fit_and_score\n",
      "    estimator.fit(X_train, y_train, **fit_params)\n",
      "  File \"C:\\Users\\talfi\\anaconda3\\lib\\site-packages\\xgboost\\core.py\", line 422, in inner_f\n",
      "    return f(**kwargs)\n",
      "  File \"C:\\Users\\talfi\\anaconda3\\lib\\site-packages\\xgboost\\sklearn.py\", line 597, in fit\n",
      "    self._Booster = train(params, train_dmatrix,\n",
      "  File \"C:\\Users\\talfi\\anaconda3\\lib\\site-packages\\xgboost\\training.py\", line 227, in train\n",
      "    bst = _train_internal(params, dtrain,\n",
      "  File \"C:\\Users\\talfi\\anaconda3\\lib\\site-packages\\xgboost\\training.py\", line 96, in _train_internal\n",
      "    for i in range(start_iteration, num_boost_round):\n",
      "TypeError: 'float' object cannot be interpreted as an integer\n",
      "\n",
      "  warnings.warn(\"Estimator fit failed. The score on this train-test\"\n"
     ]
    },
    {
     "name": "stderr",
     "output_type": "stream",
     "text": [
      "C:\\Users\\talfi\\anaconda3\\lib\\site-packages\\sklearn\\model_selection\\_search.py:918: UserWarning: One or more of the test scores are non-finite: [            nan             nan             nan             nan\n",
      " -3.46110950e+03 -3.46110950e+03 -3.46110950e+03 -3.46110950e+03\n",
      " -6.64429323e+00 -6.64429323e+00 -6.64429323e+00 -6.64429323e+00\n",
      " -3.91613378e-01 -3.91613378e-01 -3.91613378e-01 -3.91613378e-01]\n",
      "  warnings.warn(\n"
     ]
    },
    {
     "name": "stdout",
     "output_type": "stream",
     "text": [
      "Best params are:  {'n_estimators': 100, 'seed': 123}\n"
     ]
    }
   ],
   "source": [
    "from sklearn.model_selection import GridSearchCV\n",
    "gbm_param_grid = {\"n_estimators\" : [0.1,1,10,100],\n",
    "                 \"seed\" : [123, 42, 236, 84]}\n",
    "gbm = xgb.XGBRegressor()\n",
    "grid_mse = GridSearchCV(estimator = gbm,\n",
    "                        param_grid = gbm_param_grid, \n",
    "                        scoring = \"neg_mean_squared_error\", \n",
    "                        cv = 4, \n",
    "                       verbose = 1)\n",
    "grid_mse.fit(X_train, y_train)\n",
    "print(\"Best params are: \", grid_mse.best_params_)"
   ]
  },
  {
   "cell_type": "markdown",
   "id": "10729d5b",
   "metadata": {},
   "source": [
    "Let's set the hyperparameters accordingly and see if there is any improvement in R.M.S.E. Score"
   ]
  },
  {
   "cell_type": "markdown",
   "id": "3e9dcf2e",
   "metadata": {},
   "source": [
    "#### Tuned Decision Tree Regressor Base Model"
   ]
  },
  {
   "cell_type": "code",
   "execution_count": 74,
   "id": "3a8edb68",
   "metadata": {
    "scrolled": true
   },
   "outputs": [
    {
     "name": "stdout",
     "output_type": "stream",
     "text": [
      "[23:02:51] WARNING: C:/Users/Administrator/workspace/xgboost-win64_release_1.3.0/src/objective/regression_obj.cu:170: reg:linear is now deprecated in favor of reg:squarederror.\n",
      "R.M.S.E for Tuned Decision Tree Regressor Base model is:  0.5735329172129329\n"
     ]
    }
   ],
   "source": [
    "xgr = xgb.XGBRegressor(objective = \"reg:linear\",  n_estimators = 100, seed = 123)\n",
    "xgr.fit(X_train, y_train)\n",
    "y_pred = xgr.predict(X_test)\n",
    "RMSE = MSE(y_pred, y_test)**(1/2)\n",
    "print(\"R.M.S.E for Tuned Decision Tree Regressor Base model is: \", RMSE)"
   ]
  },
  {
   "cell_type": "markdown",
   "id": "042b60e0",
   "metadata": {},
   "source": [
    "From 2.49 to 0.57; 4,36 times better than untuned version!  "
   ]
  },
  {
   "cell_type": "markdown",
   "id": "ab2905b2",
   "metadata": {},
   "source": [
    "#### Tuned Linear Regression Base Model"
   ]
  },
  {
   "cell_type": "code",
   "execution_count": 75,
   "id": "8fb3822a",
   "metadata": {
    "scrolled": true
   },
   "outputs": [
    {
     "name": "stdout",
     "output_type": "stream",
     "text": [
      "[23:03:43] WARNING: C:/Users/Administrator/workspace/xgboost-win64_release_1.3.0/src/objective/regression_obj.cu:170: reg:linear is now deprecated in favor of reg:squarederror.\n",
      "R.M.S.E for Tuned Linear Regression Base model is:  2.6003958135102794\n"
     ]
    }
   ],
   "source": [
    "import xgboost as xgb\n",
    "from sklearn.metrics import mean_squared_error as MSE\n",
    "xgr = xgb.XGBRegressor(objective = \"reg:linear\", booster = \"gblinear\",n_estimators = 100, seed = 123)\n",
    "xgr.fit(X_train, y_train)\n",
    "y_pred = xgr.predict(X_test)\n",
    "RMSE = MSE(y_pred, y_test)**(1/2)\n",
    "print(\"R.M.S.E for Tuned Linear Regression Base model is: \", RMSE)"
   ]
  },
  {
   "cell_type": "markdown",
   "id": "125dbf14",
   "metadata": {},
   "source": [
    "5.55 to 2.60 . 2.13 times better than untuned version!"
   ]
  },
  {
   "cell_type": "markdown",
   "id": "c431b9a1",
   "metadata": {},
   "source": [
    "* Tuned Decision Tree Regressor Base Model's R.M.S.E. Score(0.57) is lower than Tuned Linear Regression Model's R.M.S.E. Score(2.60). As lower R.M.S.E. Score is better in R.M.S.E., in our case; Decision Tree Regressor is more convinient base for XGBoost.  "
   ]
  }
 ],
 "metadata": {
  "kernelspec": {
   "display_name": "Python 3",
   "language": "python",
   "name": "python3"
  },
  "language_info": {
   "codemirror_mode": {
    "name": "ipython",
    "version": 3
   },
   "file_extension": ".py",
   "mimetype": "text/x-python",
   "name": "python",
   "nbconvert_exporter": "python",
   "pygments_lexer": "ipython3",
   "version": "3.8.3"
  }
 },
 "nbformat": 4,
 "nbformat_minor": 5
}
